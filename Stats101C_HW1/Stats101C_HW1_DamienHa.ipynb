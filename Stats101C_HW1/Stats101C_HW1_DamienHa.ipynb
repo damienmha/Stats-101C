{
 "cells": [
  {
   "cell_type": "markdown",
   "id": "0e7a2773-8d84-456e-a43e-f6da2d6ed84b",
   "metadata": {},
   "source": [
    "# Stats 101C Homework 1"
   ]
  },
  {
   "cell_type": "markdown",
   "id": "6f3469e3-249e-4130-8765-7e9585f40bc0",
   "metadata": {},
   "source": [
    "## Damien Ha"
   ]
  },
  {
   "cell_type": "markdown",
   "id": "03a9c641-fe87-4ebf-8938-d48f70a57029",
   "metadata": {},
   "source": [
    "### October 13, 2023"
   ]
  },
  {
   "cell_type": "code",
   "execution_count": 1,
   "id": "605bd064-3bf3-4014-b2b4-cf5cf201e83b",
   "metadata": {},
   "outputs": [],
   "source": [
    "# import necessary libraries\n",
    "import numpy as np\n",
    "import matplotlib.pyplot as plt\n",
    "import math\n",
    "from sklearn.preprocessing import PolynomialFeatures\n",
    "from sklearn.linear_model import LinearRegression"
   ]
  },
  {
   "cell_type": "code",
   "execution_count": 2,
   "id": "f3b32b52-c44e-4548-a52f-849b057c8498",
   "metadata": {},
   "outputs": [],
   "source": [
    "# set seed so results can be replicated\n",
    "np.random.seed(42)"
   ]
  },
  {
   "cell_type": "code",
   "execution_count": 3,
   "id": "1f5eb478-d73d-4797-bdc2-00687c2dc6c9",
   "metadata": {},
   "outputs": [],
   "source": [
    "# Create the test samples\n",
    "x_test = 2 * math.pi * np.random.uniform(-1, 1, 50000)\n",
    "y_test = np.array([math.sin(x_test[i]) + math.cos(x_test[i]) for i in range(50000)])"
   ]
  },
  {
   "cell_type": "code",
   "execution_count": 4,
   "id": "8e33d41f-9a66-4334-90db-89dce1704daa",
   "metadata": {},
   "outputs": [],
   "source": [
    "# Create matrices to store the predictions for testing samples\n",
    "y_pred = np.zeros([7, 50000])\n",
    "y_pred_sq = np.zeros([7, 50000])\n",
    "degrees = range(1, 8)"
   ]
  },
  {
   "cell_type": "code",
   "execution_count": 5,
   "id": "acb8b700-5ff9-4f60-b410-6d6150ed9646",
   "metadata": {},
   "outputs": [],
   "source": [
    "# Loop through each replication, create training data\n",
    "for i in range(1000):\n",
    "    x_train = 2* math.pi * np.random.uniform(-1, 1, 30)\n",
    "    y_train = np.array([math.sin(x_train[i]) + math.cos(x_train[i]) for i in range(30)]) + np.random.normal(0, 0.5, 30) \n",
    "    \n",
    "    # Loop through polynomials with degree d, transform to polynomial features\n",
    "    for d in degrees:\n",
    "        poly_features = PolynomialFeatures(degree = d)\n",
    "        x_poly_train = poly_features.fit_transform(x_train.reshape(-1, 1))\n",
    "        x_poly_test = poly_features.fit_transform(x_test.reshape(-1, 1))  \n",
    "        \n",
    "        # Fit a linear regression model based on polynomial featurws, calculate predictions and add them to results\n",
    "        model = LinearRegression()\n",
    "        model.fit(x_poly_train, y_train)\n",
    "        y_pred_test = model.predict(x_poly_test)\n",
    "        y_pred[d-1] = y_pred[d-1] + y_pred_test\n",
    "        y_pred_sq[d-1] = y_pred_sq[d-1] + y_pred_test**2\n",
    "        \n",
    "y_pred = y_pred / 1000\n",
    "y_pred_sq = y_pred_sq / 1000"
   ]
  },
  {
   "cell_type": "code",
   "execution_count": 6,
   "id": "e651376b-b0c5-4b6b-a4fb-cb1598712e02",
   "metadata": {},
   "outputs": [],
   "source": [
    "bias_squared = []\n",
    "variance = []\n",
    "\n",
    "# Calculate bias spquared and variance \n",
    "for d in degrees:\n",
    "    bias_squared.append(sum((y_pred[d-1] - y_test)**2) / 50000)\n",
    "    variance.append(sum(y_pred_sq[d-1] - y_pred[d-1]**2) / 50000)"
   ]
  },
  {
   "cell_type": "code",
   "execution_count": 7,
   "id": "c3d8e172-e213-4498-af43-cfc01585a48c",
   "metadata": {},
   "outputs": [
    {
     "data": {
      "image/png": "[encoded data removed]",
      "text/plain": [
       "<Figure size 432x288 with 1 Axes>"
      ]
     },
     "metadata": {
      "needs_background": "light"
     },
     "output_type": "display_data"
    }
   ],
   "source": [
    "# Plot degree vs value with lines for squared bias and variance\n",
    "plt.plot(degrees, bias_squared, 'o-', label='Squared Bias')\n",
    "plt.plot(degrees, variance, 'o-', label='Variance')\n",
    "plt.legend()\n",
    "plt.xlabel('Degree of polynomial')\n",
    "plt.ylabel('Value')\n",
    "plt.show()"
   ]
  },
  {
   "cell_type": "markdown",
   "id": "0f7d4226-3f78-4ce0-b25f-ccd762a52fc2",
   "metadata": {},
   "source": [
    "The squared bias has an average downward trend as degree of the polynomial increases, while variance has an average increase. This is as expected, higher degree polynomials can more easily fit to the data and have a lower bias while conversely varying much more. So, at lower polynomial degrees, the model exhibits high bias (underfitting), while at higher degrees, it has high variance (overfitting). The variance line has a bit of an (upward) elbow at degree 6 which suggests that a polynomial of degree 6 might be where the model begins to overfit most severely. The bias and variance lines intersect at 4, which likely is the point where the model is most balanced between underfitting and overfitting. Therefore, this could be a good place to start for future predictions"
   ]
  }
 ],
 "metadata": {
  "kernelspec": {
   "display_name": "Python 3 (ipykernel)",
   "language": "python",
   "name": "python3"
  },
  "language_info": {
   "codemirror_mode": {
    "name": "ipython",
    "version": 3
   },
   "file_extension": ".py",
   "mimetype": "text/x-python",
   "name": "python",
   "nbconvert_exporter": "python",
   "pygments_lexer": "ipython3",
   "version": "3.9.7"
  }
 },
 "nbformat": 4,
 "nbformat_minor": 5
}
