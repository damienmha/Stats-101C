{
 "cells": [
  {
   "cell_type": "markdown",
   "id": "1ecfcb61-dfe9-4c9b-9761-08d07f2b9be6",
   "metadata": {},
   "source": [
    "# Stats 101C Homework 6"
   ]
  },
  {
   "cell_type": "markdown",
   "id": "9875d310-d68d-44b1-83ff-ace2a379c374",
   "metadata": {},
   "source": [
    "## Damien Ha"
   ]
  },
  {
   "cell_type": "code",
   "execution_count": 1,
   "id": "ad0da67c-1519-4d07-be7f-7c5d49ea64eb",
   "metadata": {},
   "outputs": [],
   "source": [
    "import pandas as pd\n",
    "from sklearn.model_selection import train_test_split\n",
    "from sklearn.tree import DecisionTreeClassifier\n",
    "from sklearn.ensemble import RandomForestClassifier\n",
    "from sklearn.metrics import accuracy_score"
   ]
  },
  {
   "cell_type": "markdown",
   "id": "a5fd9466-2418-41ed-843b-7fc09e4154a6",
   "metadata": {},
   "source": [
    "### (1)\n",
    "Randomly Sample 10,000 data points as training data and let the rest of the data be the testing dataset. Build a decision tree (Maximum Depth = 5) on 10,000 data points and test its performance on the testing data."
   ]
  },
  {
   "cell_type": "code",
   "execution_count": 2,
   "id": "b1830d50-a128-4931-8a6c-8a541722ecdf",
   "metadata": {},
   "outputs": [],
   "source": [
    "df = pd.read_csv('Smoke_Alarm_Dataset.csv')\n",
    "X = df.drop('Fire Alarm', axis=1)\n",
    "y = df['Fire Alarm']"
   ]
  },
  {
   "cell_type": "code",
   "execution_count": 3,
   "id": "e7c40250-d5ea-486e-9dfc-1becd8643b06",
   "metadata": {},
   "outputs": [
    {
     "name": "stdout",
     "output_type": "stream",
     "text": [
      "Decision Tree Accuracy: 0.9861\n"
     ]
    }
   ],
   "source": [
    "# Randomly sample 10,000 data points for training\n",
    "X_train, X_test, y_train, y_test = train_test_split(X, y, train_size = 10000, random_state=1)\n",
    "\n",
    "# Build Decision Tree model with maximum depth = 5\n",
    "decision_tree_model = DecisionTreeClassifier(max_depth=5)\n",
    "decision_tree_model.fit(X_train, y_train)\n",
    "\n",
    "# Evaluate Decision Tree model on testing data\n",
    "y_pred_dt = decision_tree_model.predict(X_test)\n",
    "accuracy_dt = accuracy_score(y_test, y_pred_dt)\n",
    "print(f\"Decision Tree Accuracy: {accuracy_dt:.4f}\")"
   ]
  },
  {
   "cell_type": "markdown",
   "id": "7c89706e-21e1-4afd-982f-48f624f98992",
   "metadata": {},
   "source": [
    "### (2)\n",
    "Build a random forest model (number of trees = 15) on the training dataset and test its performance on the testing data."
   ]
  },
  {
   "cell_type": "code",
   "execution_count": 4,
   "id": "6c968617-e91a-48b1-9731-39668c57f6ba",
   "metadata": {},
   "outputs": [
    {
     "name": "stdout",
     "output_type": "stream",
     "text": [
      "Random Forest Accuracy: 0.9997\n"
     ]
    }
   ],
   "source": [
    "# Build Random Forest model with 15 trees\n",
    "random_forest_model = RandomForestClassifier(n_estimators=15, random_state=1)\n",
    "random_forest_model.fit(X_train, y_train)\n",
    "\n",
    "# Evaluate Random Forest model on testing data\n",
    "y_pred_rf = random_forest_model.predict(X_test)\n",
    "accuracy_rf = accuracy_score(y_test, y_pred_rf)\n",
    "print(f\"Random Forest Accuracy: {accuracy_rf:.4f}\")"
   ]
  },
  {
   "cell_type": "markdown",
   "id": "3f0adc40-f039-4532-aacc-a77d76a5c0d3",
   "metadata": {},
   "source": [
    "### (3)\n",
    "Compare the accuracy of decision trees and random forests. What is your conclusion?"
   ]
  },
  {
   "cell_type": "code",
   "execution_count": 5,
   "id": "82c30382-09d5-43a3-ad0c-9fada445fb39",
   "metadata": {},
   "outputs": [
    {
     "name": "stdout",
     "output_type": "stream",
     "text": [
      "\n",
      "Comparison:\n",
      "Decision Tree Accuracy: 0.9861\n",
      "Random Forest Accuracy: 0.9997\n",
      "Random Forest outperforms Decision Tree.\n"
     ]
    }
   ],
   "source": [
    "print(\"\\nComparison:\")\n",
    "print(f\"Decision Tree Accuracy: {accuracy_dt:.4f}\")\n",
    "print(f\"Random Forest Accuracy: {accuracy_rf:.4f}\")\n",
    "\n",
    "# Conclusion\n",
    "if accuracy_rf > accuracy_dt:\n",
    "    print(\"Random Forest outperforms Decision Tree.\")\n",
    "elif accuracy_rf < accuracy_dt:\n",
    "    print(\"Decision Tree outperforms Random Forest.\")\n",
    "else:\n",
    "    print(\"Decision Tree and Random Forest have similar performance.\")"
   ]
  }
 ],
 "metadata": {
  "kernelspec": {
   "display_name": "Python 3 (ipykernel)",
   "language": "python",
   "name": "python3"
  },
  "language_info": {
   "codemirror_mode": {
    "name": "ipython",
    "version": 3
   },
   "file_extension": ".py",
   "mimetype": "text/x-python",
   "name": "python",
   "nbconvert_exporter": "python",
   "pygments_lexer": "ipython3",
   "version": "3.9.7"
  }
 },
 "nbformat": 4,
 "nbformat_minor": 5
}
