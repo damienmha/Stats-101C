{
 "cells": [
  {
   "cell_type": "markdown",
   "id": "6cb0834f-0d46-4148-9edd-8e094d4b813f",
   "metadata": {},
   "source": [
    "# Stats 101C Homework #3"
   ]
  },
  {
   "cell_type": "markdown",
   "id": "32c5dcb6-3fd8-4ace-a2e7-ca232a0f408f",
   "metadata": {},
   "source": [
    "## Damien Ha"
   ]
  },
  {
   "cell_type": "code",
   "execution_count": 1,
   "id": "ca8d9025-11ca-4af9-bb7e-eb6c96202d82",
   "metadata": {},
   "outputs": [],
   "source": [
    "import pandas as pd\n",
    "from sklearn.model_selection import train_test_split\n",
    "from sklearn.preprocessing import StandardScaler\n",
    "from sklearn.discriminant_analysis import LinearDiscriminantAnalysis\n",
    "from sklearn.linear_model import LogisticRegression\n",
    "from sklearn.neighbors import KNeighborsClassifier\n",
    "from sklearn.metrics import accuracy_score\n",
    "import matplotlib.pyplot as plt"
   ]
  },
  {
   "cell_type": "code",
   "execution_count": 2,
   "id": "7ad68b20-d076-4648-b09c-4cf4a89a4d91",
   "metadata": {},
   "outputs": [],
   "source": [
    "# Load the dataset\n",
    "df = pd.read_csv('smoke_detection_iot.csv')"
   ]
  },
  {
   "cell_type": "markdown",
   "id": "14a00e97-1f1b-469a-8a88-5eea6e32d483",
   "metadata": {},
   "source": [
    "### #1"
   ]
  },
  {
   "cell_type": "code",
   "execution_count": 3,
   "id": "03301601-a951-47ea-aa01-00d4a6650371",
   "metadata": {},
   "outputs": [],
   "source": [
    "# Normalize each column\n",
    "X = df.iloc[:, :-1].values\n",
    "X = StandardScaler().fit_transform(X)"
   ]
  },
  {
   "cell_type": "markdown",
   "id": "49d0413a-9023-49ef-b090-0a7d436006e5",
   "metadata": {},
   "source": [
    "### #2"
   ]
  },
  {
   "cell_type": "code",
   "execution_count": 4,
   "id": "b4a0e5c0-015b-49fc-aa32-3f212f5ec0f5",
   "metadata": {},
   "outputs": [],
   "source": [
    "# Split the dataset\n",
    "X_train, X_test, y_train, y_test = train_test_split(X, df['Fire Alarm'].values, test_size=0.3, random_state=42)"
   ]
  },
  {
   "cell_type": "markdown",
   "id": "57484762-d80a-4b0c-a966-dc4392a510f9",
   "metadata": {},
   "source": [
    "### #3"
   ]
  },
  {
   "cell_type": "code",
   "execution_count": 5,
   "id": "071f2887-abe9-4cb9-817f-8b9633256daf",
   "metadata": {},
   "outputs": [
    {
     "name": "stderr",
     "output_type": "stream",
     "text": [
      "/Users/dha/opt/anaconda3/lib/python3.9/site-packages/sklearn/linear_model/_logistic.py:458: ConvergenceWarning: lbfgs failed to converge (status=1):\n",
      "STOP: TOTAL NO. of ITERATIONS REACHED LIMIT.\n",
      "\n",
      "Increase the number of iterations (max_iter) or scale the data as shown in:\n",
      "    https://scikit-learn.org/stable/modules/preprocessing.html\n",
      "Please also refer to the documentation for alternative solver options:\n",
      "    https://scikit-learn.org/stable/modules/linear_model.html#logistic-regression\n",
      "  n_iter_i = _check_optimize_result(\n"
     ]
    },
    {
     "name": "stdout",
     "output_type": "stream",
     "text": [
      "Accuracy of LDA: 91.66%\n",
      "Accuracy of Logistic Regression: 98.72%\n"
     ]
    },
    {
     "data": {
      "image/png": "[encoded data removed]",
      "text/plain": [
       "<Figure size 432x288 with 1 Axes>"
      ]
     },
     "metadata": {
      "needs_background": "light"
     },
     "output_type": "display_data"
    }
   ],
   "source": [
    "# Train LDA and logistic classifiers\n",
    "lda = LinearDiscriminantAnalysis()\n",
    "lda.fit(X_train, y_train)\n",
    "\n",
    "logreg = LogisticRegression()\n",
    "logreg.fit(X_train, y_train)\n",
    "\n",
    "# Evaluate on the testing dataset\n",
    "y_pred_lda = lda.predict(X_test)\n",
    "y_pred_logreg = logreg.predict(X_test)\n",
    "\n",
    "accuracy_lda = accuracy_score(y_test, y_pred_lda)\n",
    "accuracy_logreg = accuracy_score(y_test, y_pred_logreg)\n",
    "\n",
    "print(\"Accuracy of LDA: {:.2f}%\".format(accuracy_lda * 100))\n",
    "print(\"Accuracy of Logistic Regression: {:.2f}%\".format(accuracy_logreg * 100))\n",
    "\n",
    "# Scatter plot for LDA assumption\n",
    "plt.scatter(X_train[:, 0], X_train[:, 1], c=y_train, cmap='viridis', edgecolors='k', marker='o', alpha=0.7)\n",
    "plt.title(\"Scatter plot of two random features\")\n",
    "plt.xlabel(\"Feature 1\")\n",
    "plt.ylabel(\"Feature 2\")\n",
    "plt.show()"
   ]
  },
  {
   "cell_type": "markdown",
   "id": "6bf7c109-c396-417d-8193-ee3300101459",
   "metadata": {},
   "source": [
    "Logistic regression has a higher accuracy than LDA with 7.06% higher accuracy"
   ]
  },
  {
   "cell_type": "markdown",
   "id": "4ee593f9-c826-4241-b31f-8e555a97d398",
   "metadata": {},
   "source": [
    "### #4"
   ]
  },
  {
   "cell_type": "code",
   "execution_count": 6,
   "id": "3c848843-f353-4efd-95d5-dc93ea2d7ebd",
   "metadata": {},
   "outputs": [
    {
     "name": "stdout",
     "output_type": "stream",
     "text": [
      "Accuracy of KNN: 99.99%\n",
      "\n",
      "Comparison:\n",
      "1. LDA vs. Logistic Regression:\n",
      "   - LDA Accuracy: 91.66%\n",
      "   - Logistic Regression Accuracy: 98.72%\n",
      "2. KNN vs. LDA and Logistic Regression:\n",
      "   - KNN Accuracy: 99.99%\n"
     ]
    }
   ],
   "source": [
    "# Fit a KNN classifier\n",
    "knn = KNeighborsClassifier(n_neighbors=5)\n",
    "knn.fit(X_train, y_train)\n",
    "\n",
    "# Evaluate on the testing dataset\n",
    "y_pred_knn = knn.predict(X_test)\n",
    "accuracy_knn = accuracy_score(y_test, y_pred_knn)\n",
    "\n",
    "print(\"Accuracy of KNN: {:.2f}%\".format(accuracy_knn * 100))\n",
    "\n",
    "# Compare the classifiers\n",
    "print(\"\\nComparison:\")\n",
    "print(\"1. LDA vs. Logistic Regression:\")\n",
    "print(\"   - LDA Accuracy: {:.2f}%\".format(accuracy_lda * 100))\n",
    "print(\"   - Logistic Regression Accuracy: {:.2f}%\".format(accuracy_logreg * 100))\n",
    "print(\"2. KNN vs. LDA and Logistic Regression:\")\n",
    "print(\"   - KNN Accuracy: {:.2f}%\".format(accuracy_knn * 100))"
   ]
  },
  {
   "cell_type": "markdown",
   "id": "831e9319-fcc6-4700-998d-4e77d4e49699",
   "metadata": {},
   "source": [
    "KNN has a higher accuracy than both LDA and logistic regression"
   ]
  }
 ],
 "metadata": {
  "kernelspec": {
   "display_name": "Python 3 (ipykernel)",
   "language": "python",
   "name": "python3"
  },
  "language_info": {
   "codemirror_mode": {
    "name": "ipython",
    "version": 3
   },
   "file_extension": ".py",
   "mimetype": "text/x-python",
   "name": "python",
   "nbconvert_exporter": "python",
   "pygments_lexer": "ipython3",
   "version": "3.9.7"
  }
 },
 "nbformat": 4,
 "nbformat_minor": 5
}
