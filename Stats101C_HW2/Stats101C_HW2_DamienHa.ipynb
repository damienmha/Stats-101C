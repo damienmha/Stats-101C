{
 "cells": [
  {
   "cell_type": "markdown",
   "id": "72ef413d-ddfa-41d9-8aec-581d13a190cc",
   "metadata": {},
   "source": [
    "# Stats 101C Homework 2"
   ]
  },
  {
   "cell_type": "markdown",
   "id": "7f38a177-d8e9-456a-ba56-a797983d3338",
   "metadata": {},
   "source": [
    "## Damien Ha"
   ]
  },
  {
   "cell_type": "code",
   "execution_count": 1,
   "id": "43573149-c2b0-44c9-84ec-615cef27f4f3",
   "metadata": {},
   "outputs": [],
   "source": [
    "import numpy as np\n",
    "from sklearn.neighbors import KNeighborsRegressor\n",
    "from sklearn.linear_model import LinearRegression\n",
    "from sklearn.metrics import mean_squared_error"
   ]
  },
  {
   "cell_type": "code",
   "execution_count": 2,
   "id": "965f7802-6128-432a-874b-c41f5a4612ab",
   "metadata": {},
   "outputs": [],
   "source": [
    "np.random.seed(42)\n",
    "n_samples = 1000\n",
    "X = np.random.uniform(1, 2, (n_samples, 2))"
   ]
  },
  {
   "cell_type": "code",
   "execution_count": 3,
   "id": "a9e8d6d2-9802-4e43-8d94-eb6e6a0fa515",
   "metadata": {},
   "outputs": [],
   "source": [
    "# Define the functions\n",
    "def function1(x):\n",
    "    return x[:, 0]**2 + x[:, 1]**2 + x[:, 0]**3 + x[:, 1]**3\n",
    "\n",
    "def function2(x):\n",
    "    return (1 / x[:, 0]) + (1 / x[:, 1])"
   ]
  },
  {
   "cell_type": "code",
   "execution_count": 4,
   "id": "e88e8c3d-838c-4650-a2e7-731432141c6b",
   "metadata": {},
   "outputs": [],
   "source": [
    "y1 = function1(X)\n",
    "y2 = function2(X)"
   ]
  },
  {
   "cell_type": "code",
   "execution_count": 5,
   "id": "70093364-6668-419c-bc9a-7e23e3d5631b",
   "metadata": {},
   "outputs": [],
   "source": [
    "split_ratio = 0.7\n",
    "n_train = int(n_samples * split_ratio)\n",
    "X_train, X_test = X[:n_train], X[n_train:]\n",
    "y1_train, y1_test = y1[:n_train], y1[n_train:]\n",
    "y2_train, y2_test = y2[:n_train], y2[n_train:]"
   ]
  },
  {
   "cell_type": "code",
   "execution_count": 6,
   "id": "b7d9dfe3-8519-47fc-bc2e-5a1557705849",
   "metadata": {},
   "outputs": [],
   "source": [
    "k_values = list(range(7, 42, 2))\n",
    "results = []"
   ]
  },
  {
   "cell_type": "code",
   "execution_count": 7,
   "id": "9ec5d755-a749-4b55-950d-ccb678dacb1d",
   "metadata": {},
   "outputs": [],
   "source": [
    "for k in k_values:\n",
    "    knn_model = KNeighborsRegressor(n_neighbors=k)\n",
    "    linear_model = LinearRegression()\n",
    "\n",
    "    knn_model.fit(X_train, y1_train)\n",
    "    linear_model.fit(X_train, y1_train)\n",
    "\n",
    "    knn_pred = knn_model.predict(X_test)\n",
    "    linear_pred = linear_model.predict(X_test)\n",
    "\n",
    "    mse_knn = mean_squared_error(y1_test, knn_pred)\n",
    "    mse_linear = mean_squared_error(y1_test, linear_pred)\n",
    "\n",
    "    results.append((k, mse_knn, mse_linear))"
   ]
  },
  {
   "cell_type": "code",
   "execution_count": 8,
   "id": "42850a7c-7f41-400e-af23-b125422ef035",
   "metadata": {},
   "outputs": [
    {
     "name": "stdout",
     "output_type": "stream",
     "text": [
      "KNN (k=7) MSE: 0.0485, Linear Regression MSE: 0.3782\n",
      "KNN (k=9) MSE: 0.0498, Linear Regression MSE: 0.3782\n",
      "KNN (k=11) MSE: 0.0543, Linear Regression MSE: 0.3782\n",
      "KNN (k=13) MSE: 0.0626, Linear Regression MSE: 0.3782\n",
      "KNN (k=15) MSE: 0.0696, Linear Regression MSE: 0.3782\n",
      "KNN (k=17) MSE: 0.0747, Linear Regression MSE: 0.3782\n",
      "KNN (k=19) MSE: 0.0807, Linear Regression MSE: 0.3782\n",
      "KNN (k=21) MSE: 0.0844, Linear Regression MSE: 0.3782\n",
      "KNN (k=23) MSE: 0.0943, Linear Regression MSE: 0.3782\n",
      "KNN (k=25) MSE: 0.1009, Linear Regression MSE: 0.3782\n",
      "KNN (k=27) MSE: 0.1118, Linear Regression MSE: 0.3782\n",
      "KNN (k=29) MSE: 0.1249, Linear Regression MSE: 0.3782\n",
      "KNN (k=31) MSE: 0.1328, Linear Regression MSE: 0.3782\n",
      "KNN (k=33) MSE: 0.1415, Linear Regression MSE: 0.3782\n",
      "KNN (k=35) MSE: 0.1525, Linear Regression MSE: 0.3782\n",
      "KNN (k=37) MSE: 0.1605, Linear Regression MSE: 0.3782\n",
      "KNN (k=39) MSE: 0.1707, Linear Regression MSE: 0.3782\n",
      "KNN (k=41) MSE: 0.1796, Linear Regression MSE: 0.3782\n"
     ]
    }
   ],
   "source": [
    "for k, mse_knn, mse_linear in results:\n",
    "    print(f\"KNN (k={k}) MSE: {mse_knn:.4f}, Linear Regression MSE: {mse_linear:.4f}\")"
   ]
  },
  {
   "cell_type": "code",
   "execution_count": 9,
   "id": "51512d47-c788-4b82-83e8-5b0ce66e44e7",
   "metadata": {},
   "outputs": [],
   "source": [
    "results2 = []\n",
    "for k in k_values:\n",
    "    knn_model = KNeighborsRegressor(n_neighbors=k)\n",
    "    linear_model = LinearRegression()\n",
    "\n",
    "    knn_model.fit(X_train, y2_train)\n",
    "    linear_model.fit(X_train, y2_train)\n",
    "\n",
    "    knn_pred = knn_model.predict(X_test)\n",
    "    linear_pred = linear_model.predict(X_test)\n",
    "\n",
    "    mse_knn = mean_squared_error(y2_test, knn_pred)\n",
    "    mse_linear = mean_squared_error(y2_test, linear_pred)\n",
    "\n",
    "    results2.append((k, mse_knn, mse_linear))"
   ]
  },
  {
   "cell_type": "code",
   "execution_count": 10,
   "id": "3f881d8c-94b4-4ca6-83c7-aece793ea035",
   "metadata": {},
   "outputs": [
    {
     "name": "stdout",
     "output_type": "stream",
     "text": [
      "KNN (k=7) MSE: 0.0001, Linear Regression MSE: 0.0013\n",
      "KNN (k=9) MSE: 0.0001, Linear Regression MSE: 0.0013\n",
      "KNN (k=11) MSE: 0.0001, Linear Regression MSE: 0.0013\n",
      "KNN (k=13) MSE: 0.0002, Linear Regression MSE: 0.0013\n",
      "KNN (k=15) MSE: 0.0002, Linear Regression MSE: 0.0013\n",
      "KNN (k=17) MSE: 0.0002, Linear Regression MSE: 0.0013\n",
      "KNN (k=19) MSE: 0.0002, Linear Regression MSE: 0.0013\n",
      "KNN (k=21) MSE: 0.0002, Linear Regression MSE: 0.0013\n",
      "KNN (k=23) MSE: 0.0002, Linear Regression MSE: 0.0013\n",
      "KNN (k=25) MSE: 0.0002, Linear Regression MSE: 0.0013\n",
      "KNN (k=27) MSE: 0.0003, Linear Regression MSE: 0.0013\n",
      "KNN (k=29) MSE: 0.0003, Linear Regression MSE: 0.0013\n",
      "KNN (k=31) MSE: 0.0003, Linear Regression MSE: 0.0013\n",
      "KNN (k=33) MSE: 0.0003, Linear Regression MSE: 0.0013\n",
      "KNN (k=35) MSE: 0.0003, Linear Regression MSE: 0.0013\n",
      "KNN (k=37) MSE: 0.0004, Linear Regression MSE: 0.0013\n",
      "KNN (k=39) MSE: 0.0004, Linear Regression MSE: 0.0013\n",
      "KNN (k=41) MSE: 0.0004, Linear Regression MSE: 0.0013\n"
     ]
    }
   ],
   "source": [
    "for k, mse_knn, mse_linear in results2:\n",
    "    print(f\"KNN (k={k}) MSE: {mse_knn:.4f}, Linear Regression MSE: {mse_linear:.4f}\")"
   ]
  },
  {
   "cell_type": "markdown",
   "id": "2527278e-1be5-4b28-bd51-23f2be61cff2",
   "metadata": {},
   "source": [
    "For both functions, mean squared error for KNN is less than mean squared error for Linear Regression. So, in both cases, KNN outperforms Linear Regression"
   ]
  }
 ],
 "metadata": {
  "kernelspec": {
   "display_name": "Python 3 (ipykernel)",
   "language": "python",
   "name": "python3"
  },
  "language_info": {
   "codemirror_mode": {
    "name": "ipython",
    "version": 3
   },
   "file_extension": ".py",
   "mimetype": "text/x-python",
   "name": "python",
   "nbconvert_exporter": "python",
   "pygments_lexer": "ipython3",
   "version": "3.9.7"
  }
 },
 "nbformat": 4,
 "nbformat_minor": 5
}
