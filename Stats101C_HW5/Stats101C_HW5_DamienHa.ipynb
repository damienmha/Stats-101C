{
 "cells": [
  {
   "cell_type": "markdown",
   "id": "0f08c138-0ff5-4904-8d6b-eaafdc33b2a3",
   "metadata": {},
   "source": [
    "# Stats 101C Homework 5"
   ]
  },
  {
   "cell_type": "markdown",
   "id": "9d1f03d2-1883-404b-abbf-5fe7870d2c2a",
   "metadata": {},
   "source": [
    "## Damien Ha"
   ]
  },
  {
   "cell_type": "code",
   "execution_count": 1,
   "id": "0fdc3d02-8b76-4d6d-a77d-a7df6487f79c",
   "metadata": {},
   "outputs": [],
   "source": [
    "import pandas as pd\n",
    "from sklearn.model_selection import train_test_split\n",
    "from sklearn.linear_model import LogisticRegression\n",
    "from sklearn.metrics import accuracy_score"
   ]
  },
  {
   "cell_type": "code",
   "execution_count": 2,
   "id": "78bfb379-c541-45cf-91e5-aabd2735077f",
   "metadata": {},
   "outputs": [],
   "source": [
    "train_data = pd.read_csv('Training_dataset.csv')\n",
    "test_data = pd.read_csv('Testing_dataset.csv')"
   ]
  },
  {
   "cell_type": "code",
   "execution_count": 3,
   "id": "0deb5891-5af3-425d-a3b7-ab8378fb48ef",
   "metadata": {},
   "outputs": [],
   "source": [
    "# Extract features (x) and labels (y) from training data\n",
    "x_train = train_data.drop('Y', axis=1)\n",
    "y_train = train_data['Y']\n",
    "\n",
    "# Extract features (x) and labels (y) from testing data\n",
    "x_test = test_data.drop('Y', axis=1)\n",
    "y_test = test_data['Y']"
   ]
  },
  {
   "cell_type": "markdown",
   "id": "e9cd1139-8f0f-485e-afd9-de0b60521bbc",
   "metadata": {},
   "source": [
    "### #1"
   ]
  },
  {
   "cell_type": "code",
   "execution_count": 4,
   "id": "50989dd2-cb43-4137-b6bd-398373ba3423",
   "metadata": {},
   "outputs": [
    {
     "name": "stdout",
     "output_type": "stream",
     "text": [
      "Testing Accuracy with Raw Data: 0.7367\n"
     ]
    }
   ],
   "source": [
    "# Fit a logistic regression model\n",
    "logreg_raw = LogisticRegression()\n",
    "logreg_raw.fit(x_train, y_train)\n",
    "\n",
    "# Test the model on testing data\n",
    "y_pred_raw = logreg_raw.predict(x_test)\n",
    "\n",
    "# Testing performance\n",
    "accuracy_raw = accuracy_score(y_test, y_pred_raw)\n",
    "print(f'Testing Accuracy with Raw Data: {accuracy_raw:.4f}')"
   ]
  },
  {
   "cell_type": "markdown",
   "id": "5265fe91-6ee3-4b3f-8b44-16a8aad71b32",
   "metadata": {},
   "source": [
    "### #2"
   ]
  },
  {
   "cell_type": "code",
   "execution_count": 5,
   "id": "1e6a7735-985d-44e0-8020-b8186b7b7b74",
   "metadata": {},
   "outputs": [
    {
     "name": "stdout",
     "output_type": "stream",
     "text": [
      "Testing Accuracy with Polynomial Features: 0.8433\n"
     ]
    }
   ],
   "source": [
    "# Feature engineering\n",
    "from sklearn.preprocessing import PolynomialFeatures\n",
    "from sklearn.preprocessing import StandardScaler\n",
    "import numpy as np\n",
    "\n",
    "# Load the datasets\n",
    "training = pd.read_csv('Training_dataset.csv')\n",
    "testing = pd.read_csv('Testing_dataset.csv')\n",
    "\n",
    "# Feature Engineering\n",
    "training['X2'] = np.sin(training['X']**2)\n",
    "testing['X2'] = np.sin(testing['X']**2)\n",
    "training['X3'] = np.sin(training['X']**8) * 4\n",
    "testing['X3'] = np.exp(testing['X']**2) * 7\n",
    "\n",
    "# Model Training\n",
    "features = ['X', 'X2', 'X3']\n",
    "X_train = training[features]\n",
    "y_train = training['Y']\n",
    "\n",
    "# Logistic Regression\n",
    "log_poly = LogisticRegression()\n",
    "log_poly.fit(X_train, y_train)\n",
    "\n",
    "# Model Prediction\n",
    "X_test = testing[features]\n",
    "poly_predict = log_poly.predict(X_test)\n",
    "\n",
    "# Testing Accuracy\n",
    "poly_accuracy = accuracy_score(testing['Y'], poly_predict)\n",
    "print(f'Testing Accuracy with Polynomial Features: {poly_accuracy:.4f}')"
   ]
  },
  {
   "cell_type": "markdown",
   "id": "4e27d417-aa80-4544-9aa3-1cacbbf331dd",
   "metadata": {},
   "source": [
    "### #3"
   ]
  },
  {
   "cell_type": "markdown",
   "id": "ad880a31-b4a9-469f-89ab-ecefbb79fea3",
   "metadata": {},
   "source": [
    "Using polynomial features helps to increase the accuracy of the logistic regression model, though using too large a number of values could potentially lead to overfitting"
   ]
  }
 ],
 "metadata": {
  "kernelspec": {
   "display_name": "Python 3 (ipykernel)",
   "language": "python",
   "name": "python3"
  },
  "language_info": {
   "codemirror_mode": {
    "name": "ipython",
    "version": 3
   },
   "file_extension": ".py",
   "mimetype": "text/x-python",
   "name": "python",
   "nbconvert_exporter": "python",
   "pygments_lexer": "ipython3",
   "version": "3.9.7"
  }
 },
 "nbformat": 4,
 "nbformat_minor": 5
}
